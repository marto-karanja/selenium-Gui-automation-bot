{
 "cells": [
  {
   "cell_type": "code",
   "execution_count": 10,
   "metadata": {},
   "outputs": [
    {
     "name": "stdout",
     "output_type": "stream",
     "text": [
      "c:\\Users\\Admin\\Documents\\projects\\bots\\proficient writers bot\n"
     ]
    },
    {
     "data": {
      "text/plain": [
       "'c:\\\\Users\\\\Admin\\\\Documents\\\\projects\\\\bots\\\\proficient writers bot\\\\driver\\\\chromedriver.exe'"
      ]
     },
     "execution_count": 10,
     "metadata": {},
     "output_type": "execute_result"
    }
   ],
   "source": [
    "import os\n",
    "print(os.getcwd())\n",
    "CHROME_DRIVER = os.path.join(os.path.join(os.getcwd(), 'driver'), 'chromedriver.exe')\n",
    "CHROME_DRIVER"
   ]
  },
  {
   "cell_type": "code",
   "execution_count": 11,
   "metadata": {},
   "outputs": [],
   "source": [
    "import time\n",
    "\n",
    "# import webdriver \n",
    "from selenium.webdriver.chrome.options import Options \n",
    "from selenium import webdriver  \n",
    "from selenium.webdriver.common.by import By \n",
    "from selenium.webdriver.support.ui import WebDriverWait \n",
    "from selenium.webdriver.support import expected_conditions as EC\n",
    "from selenium.common.exceptions import NoSuchElementException\n",
    "from selenium.common.exceptions import ElementNotVisibleException \n",
    "\n",
    "\n",
    "\n",
    "# create webdriver object  \n",
    "chrome_options = Options()\n",
    "chrome_options.add_argument(\"--incognito\")\n",
    "chrome_options.add_argument(\"--start-maximized\")\n",
    "driver = webdriver.Chrome(options=chrome_options, executable_path=CHROME_DRIVER)\n",
    "\n",
    "\n",
    "# get geeksforgeeks.org\n",
    "url = \"https://www.proficientwriters.com/login\"  \n",
    "driver.get(url)"
   ]
  },
  {
   "cell_type": "code",
   "execution_count": 12,
   "metadata": {},
   "outputs": [],
   "source": [
    "account_email = \"Collinskibiwott93@gmail.com\"\n",
    "account_password = \"Dailymail1010!\"\n",
    "# Login\n",
    "email_field = driver.find_element_by_id(\"edit-name\")\n",
    "email_field.send_keys(account_email)\n",
    "password_field = driver.find_element_by_id(\"edit-pass\")\n",
    "password_field.send_keys(account_password)\n",
    "\n",
    "submit_button = driver.find_element_by_id(\"edit-submit\")\n",
    "submit_button.submit()"
   ]
  },
  {
   "attachments": {},
   "cell_type": "markdown",
   "metadata": {},
   "source": [
    "## navigate to orders page"
   ]
  },
  {
   "cell_type": "code",
   "execution_count": 13,
   "metadata": {},
   "outputs": [],
   "source": [
    "\n",
    "orders_page_url = \"https://www.proficientwriters.com/aval_orders\"\n",
    "driver.get(orders_page_url)"
   ]
  },
  {
   "attachments": {},
   "cell_type": "markdown",
   "metadata": {},
   "source": [
    "### extract order links"
   ]
  },
  {
   "cell_type": "code",
   "execution_count": 22,
   "metadata": {},
   "outputs": [
    {
     "data": {
      "text/plain": [
       "['https://www.proficientwriters.com/view_order/826346',\n",
       " 'https://www.proficientwriters.com/view_order/824804',\n",
       " 'https://www.proficientwriters.com/view_order/822198',\n",
       " 'https://www.proficientwriters.com/view_order/826498',\n",
       " 'https://www.proficientwriters.com/view_order/826546',\n",
       " 'https://www.proficientwriters.com/view_order/826591',\n",
       " 'https://www.proficientwriters.com/view_order/826588',\n",
       " 'https://www.proficientwriters.com/view_order/826580',\n",
       " 'https://www.proficientwriters.com/view_order/826572',\n",
       " 'https://www.proficientwriters.com/view_order/826567',\n",
       " 'https://www.proficientwriters.com/view_order/826574',\n",
       " 'https://www.proficientwriters.com/view_order/826564',\n",
       " 'https://www.proficientwriters.com/view_order/826570',\n",
       " 'https://www.proficientwriters.com/view_order/826571',\n",
       " 'https://www.proficientwriters.com/view_order/826556']"
      ]
     },
     "execution_count": 22,
     "metadata": {},
     "output_type": "execute_result"
    }
   ],
   "source": [
    "links = driver.find_elements_by_class_name('dashboard-order__subject')\n",
    "\n",
    "\n",
    "# Print the URLs\n",
    "# Iterate over each <p> element\n",
    "order_links = []\n",
    "for p in links:\n",
    "    # Find the links inside the <p> element\n",
    "    link_elements = p.find_elements_by_tag_name('a')\n",
    "    # Extract the href attribute of each link and print it\n",
    "    for link in link_elements:\n",
    "        href = link.get_attribute('href')\n",
    "        order_links.append(href)\n",
    "\n",
    "order_links\n"
   ]
  },
  {
   "attachments": {},
   "cell_type": "markdown",
   "metadata": {},
   "source": [
    "### navigate to orders page"
   ]
  },
  {
   "cell_type": "code",
   "execution_count": 23,
   "metadata": {},
   "outputs": [],
   "source": [
    "driver.get(order_links[0])"
   ]
  },
  {
   "attachments": {},
   "cell_type": "markdown",
   "metadata": {},
   "source": [
    "### bid for all orders"
   ]
  },
  {
   "cell_type": "code",
   "execution_count": 24,
   "metadata": {},
   "outputs": [],
   "source": [
    "apply_button = driver.find_element_by_id(\"set_bid_button\")\n",
    "apply_button.click()"
   ]
  },
  {
   "attachments": {},
   "cell_type": "markdown",
   "metadata": {},
   "source": [
    "### Navigate to orders page get all orders and apply for all orders"
   ]
  },
  {
   "cell_type": "code",
   "execution_count": 58,
   "metadata": {},
   "outputs": [],
   "source": [
    "def get_order_links():\n",
    "    driver.get(orders_page_url)\n",
    "    try:\n",
    "        # get element  after explicitly waiting for 10 seconds\n",
    "        WebDriverWait(driver, 30).until( \n",
    "            EC.presence_of_element_located((By.CLASS_NAME, \"dashboard-order__subject\")))\n",
    "    except (ElementNotVisibleException, NoSuchElementException) as e:\n",
    "        traceback.format_exc(e)\n",
    "    else:\n",
    "        order_links = []\n",
    "        links = driver.find_elements_by_class_name('dashboard-order__subject')\n",
    "        for p in links:\n",
    "            # Find the links inside the <p> element\n",
    "            link_elements = p.find_elements_by_tag_name('a')\n",
    "            # Extract the href attribute of each link and print it\n",
    "            for link in link_elements:\n",
    "                href = link.get_attribute('href')\n",
    "                order_links.append(href)\n",
    "        return order_links\n",
    "\n",
    "\n",
    "def process_links(links):\n",
    "    for link in links:\n",
    "        # fetch order page\n",
    "        print(f\"Fetching {link}\")\n",
    "        driver.get(link)\n",
    "        # wait for order page to load\n",
    "        try:\n",
    "            # get element  after explicitly waiting for 10 seconds\n",
    "            WebDriverWait(driver, 30).until( \n",
    "                EC.presence_of_element_located((By.CLASS_NAME, \"dashboard-order__prise\")))\n",
    "        except (ElementNotVisibleException, NoSuchElementException) as e:\n",
    "            traceback.format_exc(e)\n",
    "        else:\n",
    "            page_height = driver.execute_script(\"return document.body.scrollHeight\")\n",
    "\n",
    "            # Scroll down to the bottom of the page\n",
    "            driver.execute_script(\"window.scrollTo(0, document.body.scrollHeight/2);\")\n",
    "\n",
    "        try:\n",
    "            # get element  after explicitly waiting for 10 seconds\n",
    "            WebDriverWait(driver, 30).until( \n",
    "                EC.element_to_be_clickable((By.ID, \"interested_form\")))\n",
    "        except (ElementNotVisibleException, NoSuchElementException) as e:\n",
    "            traceback.format_exc(e)\n",
    "        else:\n",
    "            # click apply\n",
    "            \n",
    "            apply_form = driver.find_element_by_id(\"interested_form\")\n",
    "            apply_form.submit()\n",
    "            print(f\"Applied {link}\")"
   ]
  },
  {
   "cell_type": "code",
   "execution_count": 60,
   "metadata": {},
   "outputs": [
    {
     "name": "stdout",
     "output_type": "stream",
     "text": [
      "Fetching 1 links\n",
      "Fetching https://www.proficientwriters.com/view_order/826641\n",
      "Applied https://www.proficientwriters.com/view_order/826641\n",
      "Fetching 1 links\n",
      "Fetching https://www.proficientwriters.com/view_order/826641\n"
     ]
    },
    {
     "ename": "TimeoutException",
     "evalue": "Message: \n",
     "output_type": "error",
     "traceback": [
      "\u001b[1;31m---------------------------------------------------------------------------\u001b[0m",
      "\u001b[1;31mTimeoutException\u001b[0m                          Traceback (most recent call last)",
      "\u001b[1;32m<ipython-input-60-fba309722002>\u001b[0m in \u001b[0;36m<module>\u001b[1;34m\u001b[0m\n\u001b[0;32m      4\u001b[0m \u001b[1;33m\u001b[0m\u001b[0m\n\u001b[0;32m      5\u001b[0m     \u001b[1;31m# apply for all orders\u001b[0m\u001b[1;33m\u001b[0m\u001b[1;33m\u001b[0m\u001b[1;33m\u001b[0m\u001b[0m\n\u001b[1;32m----> 6\u001b[1;33m     \u001b[0mprocess_links\u001b[0m\u001b[1;33m(\u001b[0m\u001b[0morder_links\u001b[0m\u001b[1;33m)\u001b[0m\u001b[1;33m\u001b[0m\u001b[1;33m\u001b[0m\u001b[0m\n\u001b[0m\u001b[0;32m      7\u001b[0m \u001b[1;33m\u001b[0m\u001b[0m\n\u001b[0;32m      8\u001b[0m     \u001b[0morder_links\u001b[0m \u001b[1;33m=\u001b[0m \u001b[0mget_order_links\u001b[0m\u001b[1;33m(\u001b[0m\u001b[1;33m)\u001b[0m\u001b[1;33m\u001b[0m\u001b[1;33m\u001b[0m\u001b[0m\n",
      "\u001b[1;32m<ipython-input-58-419662f17fd7>\u001b[0m in \u001b[0;36mprocess_links\u001b[1;34m(links)\u001b[0m\n\u001b[0;32m     40\u001b[0m         \u001b[1;32mtry\u001b[0m\u001b[1;33m:\u001b[0m\u001b[1;33m\u001b[0m\u001b[1;33m\u001b[0m\u001b[0m\n\u001b[0;32m     41\u001b[0m             \u001b[1;31m# get element  after explicitly waiting for 10 seconds\u001b[0m\u001b[1;33m\u001b[0m\u001b[1;33m\u001b[0m\u001b[1;33m\u001b[0m\u001b[0m\n\u001b[1;32m---> 42\u001b[1;33m             WebDriverWait(driver, 30).until( \n\u001b[0m\u001b[0;32m     43\u001b[0m                 EC.element_to_be_clickable((By.ID, \"interested_form\")))\n\u001b[0;32m     44\u001b[0m         \u001b[1;32mexcept\u001b[0m \u001b[1;33m(\u001b[0m\u001b[0mElementNotVisibleException\u001b[0m\u001b[1;33m,\u001b[0m \u001b[0mNoSuchElementException\u001b[0m\u001b[1;33m)\u001b[0m \u001b[1;32mas\u001b[0m \u001b[0me\u001b[0m\u001b[1;33m:\u001b[0m\u001b[1;33m\u001b[0m\u001b[1;33m\u001b[0m\u001b[0m\n",
      "\u001b[1;32mc:\\Users\\Admin\\.conda\\envs\\bot\\lib\\site-packages\\selenium\\webdriver\\support\\wait.py\u001b[0m in \u001b[0;36muntil\u001b[1;34m(self, method, message)\u001b[0m\n\u001b[0;32m     78\u001b[0m             \u001b[1;32mif\u001b[0m \u001b[0mtime\u001b[0m\u001b[1;33m.\u001b[0m\u001b[0mtime\u001b[0m\u001b[1;33m(\u001b[0m\u001b[1;33m)\u001b[0m \u001b[1;33m>\u001b[0m \u001b[0mend_time\u001b[0m\u001b[1;33m:\u001b[0m\u001b[1;33m\u001b[0m\u001b[1;33m\u001b[0m\u001b[0m\n\u001b[0;32m     79\u001b[0m                 \u001b[1;32mbreak\u001b[0m\u001b[1;33m\u001b[0m\u001b[1;33m\u001b[0m\u001b[0m\n\u001b[1;32m---> 80\u001b[1;33m         \u001b[1;32mraise\u001b[0m \u001b[0mTimeoutException\u001b[0m\u001b[1;33m(\u001b[0m\u001b[0mmessage\u001b[0m\u001b[1;33m,\u001b[0m \u001b[0mscreen\u001b[0m\u001b[1;33m,\u001b[0m \u001b[0mstacktrace\u001b[0m\u001b[1;33m)\u001b[0m\u001b[1;33m\u001b[0m\u001b[1;33m\u001b[0m\u001b[0m\n\u001b[0m\u001b[0;32m     81\u001b[0m \u001b[1;33m\u001b[0m\u001b[0m\n\u001b[0;32m     82\u001b[0m     \u001b[1;32mdef\u001b[0m \u001b[0muntil_not\u001b[0m\u001b[1;33m(\u001b[0m\u001b[0mself\u001b[0m\u001b[1;33m,\u001b[0m \u001b[0mmethod\u001b[0m\u001b[1;33m,\u001b[0m \u001b[0mmessage\u001b[0m\u001b[1;33m=\u001b[0m\u001b[1;34m''\u001b[0m\u001b[1;33m)\u001b[0m\u001b[1;33m:\u001b[0m\u001b[1;33m\u001b[0m\u001b[1;33m\u001b[0m\u001b[0m\n",
      "\u001b[1;31mTimeoutException\u001b[0m: Message: \n"
     ]
    }
   ],
   "source": [
    "order_links = get_order_links()\n",
    "while len(order_links) > 0:\n",
    "    print(f\"Fetching {len(order_links)} links\")\n",
    "    \n",
    "    # apply for all orders\n",
    "    process_links(order_links)\n",
    "\n",
    "    order_links = get_order_links()\n",
    "# return to main orders page\n",
    "# repeat\n",
    "\n",
    "\n",
    "\n",
    "    "
   ]
  },
  {
   "cell_type": "code",
   "execution_count": 61,
   "metadata": {},
   "outputs": [],
   "source": [
    "import wx\n",
    "\n",
    "class MyFrame(wx.Frame):\n",
    "    def __init__(self, parent, title):\n",
    "        super().__init__(parent, title=title, size=(300, 200))\n",
    "\n",
    "        # create a panel to contain our button\n",
    "        panel = wx.Panel(self)\n",
    "\n",
    "        # create a sizer to control the layout of the panel\n",
    "        sizer = wx.BoxSizer(wx.VERTICAL)\n",
    "\n",
    "        # create a button and add it to the sizer\n",
    "        button = wx.Button(panel, label='Click me!')\n",
    "        sizer.Add(button, 0, wx.CENTER|wx.ALL, 5)\n",
    "\n",
    "        # set the panel sizer to our sizer\n",
    "        panel.SetSizer(sizer)\n",
    "\n",
    "        # bind the button to an event handler\n",
    "        button.Bind(wx.EVT_BUTTON, self.on_button_click)\n",
    "\n",
    "    def on_button_click(self, event):\n",
    "        print('Button clicked!')\n",
    "\n",
    "if __name__ == '__main__':\n",
    "    app = wx.App()\n",
    "    frame = MyFrame(None, title='My App')\n",
    "    frame.Show(True)\n",
    "    app.MainLoop()"
   ]
  }
 ],
 "metadata": {
  "kernelspec": {
   "display_name": "bot",
   "language": "python",
   "name": "python3"
  },
  "language_info": {
   "codemirror_mode": {
    "name": "ipython",
    "version": 3
   },
   "file_extension": ".py",
   "mimetype": "text/x-python",
   "name": "python",
   "nbconvert_exporter": "python",
   "pygments_lexer": "ipython3",
   "version": "3.8.5"
  },
  "orig_nbformat": 4
 },
 "nbformat": 4,
 "nbformat_minor": 2
}
